{
 "cells": [
  {
   "cell_type": "code",
   "execution_count": 33,
   "metadata": {},
   "outputs": [],
   "source": [
    "import requests\n",
    "import json\n",
    "localhost = \"http://localhost:8000\"\n",
    "# I don't recommend making changes in here, you should feel free to copy this file and run at will and compare your results."
   ]
  },
  {
   "cell_type": "code",
   "execution_count": 34,
   "metadata": {},
   "outputs": [
    {
     "name": "stdout",
     "output_type": "stream",
     "text": [
      "{\"Hello\":\"World\"}\n",
      "[]\n",
      "[]\n",
      "[]\n",
      "[{\"avg\":null}]\n",
      "[{\"min\":null}]\n",
      "[{\"max\":null}]\n"
     ]
    }
   ],
   "source": [
    "# Check how things work if no data\n",
    "r = requests.get(f'{localhost}/')\n",
    "print(r.text)\n",
    "r = requests.get(f'{localhost}/flowers')\n",
    "print(r.text)\n",
    "r = requests.get(f'{localhost}/flowers/a_genus')\n",
    "print(r.text)\n",
    "r = requests.get(f'{localhost}/flowers/a_genus/a_species')\n",
    "print(r.text)\n",
    "r = requests.get(f'{localhost}/flowers/a_genus/a_species/petals/avg')\n",
    "print(r.text)\n",
    "r = requests.get(f'{localhost}/flowers/a_genus/a_species/petals/min')\n",
    "print(r.text)\n",
    "r = requests.get(f'{localhost}/flowers/a_genus/a_species/petals/max')\n",
    "print(r.text)"
   ]
  },
  {
   "cell_type": "code",
   "execution_count": 35,
   "metadata": {},
   "outputs": [],
   "source": [
    "# Let's add some observations\n",
    "for i in range(5):\n",
    "    flower={'binomial_nomenclature': 'Lilium auratum', 'petal_count': 6, 'color': 'pink'}\n",
    "    r = requests.put(f'{localhost}/flowers',data=json.dumps(flower))\n",
    "\n"
   ]
  },
  {
   "cell_type": "code",
   "execution_count": 36,
   "metadata": {},
   "outputs": [
    {
     "name": "stdout",
     "output_type": "stream",
     "text": [
      "[{\"id\":13,\"genus\":\"Lilium\",\"species\":\"auratum\",\"petal_count\":6,\"color\":\"pink\"},{\"id\":14,\"genus\":\"Lilium\",\"species\":\"auratum\",\"petal_count\":6,\"color\":\"pink\"},{\"id\":15,\"genus\":\"Lilium\",\"species\":\"auratum\",\"petal_count\":6,\"color\":\"pink\"},{\"id\":16,\"genus\":\"Lilium\",\"species\":\"auratum\",\"petal_count\":6,\"color\":\"pink\"},{\"id\":17,\"genus\":\"Lilium\",\"species\":\"auratum\",\"petal_count\":6,\"color\":\"pink\"}]\n",
      "[{\"id\":13,\"genus\":\"Lilium\",\"species\":\"auratum\",\"petal_count\":6,\"color\":\"pink\"},{\"id\":14,\"genus\":\"Lilium\",\"species\":\"auratum\",\"petal_count\":6,\"color\":\"pink\"},{\"id\":15,\"genus\":\"Lilium\",\"species\":\"auratum\",\"petal_count\":6,\"color\":\"pink\"},{\"id\":16,\"genus\":\"Lilium\",\"species\":\"auratum\",\"petal_count\":6,\"color\":\"pink\"},{\"id\":17,\"genus\":\"Lilium\",\"species\":\"auratum\",\"petal_count\":6,\"color\":\"pink\"}]\n",
      "[{\"id\":13,\"genus\":\"Lilium\",\"species\":\"auratum\",\"petal_count\":6,\"color\":\"pink\"},{\"id\":14,\"genus\":\"Lilium\",\"species\":\"auratum\",\"petal_count\":6,\"color\":\"pink\"},{\"id\":15,\"genus\":\"Lilium\",\"species\":\"auratum\",\"petal_count\":6,\"color\":\"pink\"},{\"id\":16,\"genus\":\"Lilium\",\"species\":\"auratum\",\"petal_count\":6,\"color\":\"pink\"},{\"id\":17,\"genus\":\"Lilium\",\"species\":\"auratum\",\"petal_count\":6,\"color\":\"pink\"}]\n",
      "[{\"avg\":6.0}]\n",
      "[{\"min\":6}]\n",
      "[{\"max\":6}]\n"
     ]
    }
   ],
   "source": [
    "# and check\n",
    "a_genus = 'Lilium'\n",
    "a_species = 'auratum'\n",
    "r = requests.get(f'{localhost}/flowers')\n",
    "print(r.text)\n",
    "r = requests.get(f'{localhost}/flowers/{a_genus}')\n",
    "print(r.text)\n",
    "r = requests.get(f'{localhost}/flowers/{a_genus}/{a_species}')\n",
    "print(r.text)\n",
    "r = requests.get(f'{localhost}/flowers/{a_genus}/{a_species}/petals/avg')\n",
    "print(r.text)\n",
    "r = requests.get(f'{localhost}/flowers/{a_genus}/{a_species}/petals/min')\n",
    "print(r.text)\n",
    "r = requests.get(f'{localhost}/flowers/{a_genus}/{a_species}/petals/max')\n",
    "print(r.text)"
   ]
  },
  {
   "cell_type": "code",
   "execution_count": 37,
   "metadata": {},
   "outputs": [],
   "source": [
    "# some more observations...\n",
    "for i in range(5,10):\n",
    "    if i % 2 == 0:\n",
    "        flower={'binomial_nomenclature': 'Dahlia hortensis', 'petal_count': i*10, 'color': 'orange'}\n",
    "    else:\n",
    "        flower={'binomial_nomenclature': 'Dahlia merckii', 'petal_count': i, 'color': 'pink'}\n",
    "    r = requests.put(f'{localhost}/flowers',data=json.dumps(flower))"
   ]
  },
  {
   "cell_type": "code",
   "execution_count": 38,
   "metadata": {},
   "outputs": [
    {
     "name": "stdout",
     "output_type": "stream",
     "text": [
      "[{\"id\":13,\"genus\":\"Lilium\",\"species\":\"auratum\",\"petal_count\":6,\"color\":\"pink\"},{\"id\":14,\"genus\":\"Lilium\",\"species\":\"auratum\",\"petal_count\":6,\"color\":\"pink\"},{\"id\":15,\"genus\":\"Lilium\",\"species\":\"auratum\",\"petal_count\":6,\"color\":\"pink\"},{\"id\":16,\"genus\":\"Lilium\",\"species\":\"auratum\",\"petal_count\":6,\"color\":\"pink\"},{\"id\":17,\"genus\":\"Lilium\",\"species\":\"auratum\",\"petal_count\":6,\"color\":\"pink\"},{\"id\":18,\"genus\":\"Dahlia\",\"species\":\"merckii\",\"petal_count\":5,\"color\":\"pink\"},{\"id\":19,\"genus\":\"Dahlia\",\"species\":\"hortensis\",\"petal_count\":60,\"color\":\"orange\"},{\"id\":20,\"genus\":\"Dahlia\",\"species\":\"merckii\",\"petal_count\":7,\"color\":\"pink\"},{\"id\":21,\"genus\":\"Dahlia\",\"species\":\"hortensis\",\"petal_count\":80,\"color\":\"orange\"},{\"id\":22,\"genus\":\"Dahlia\",\"species\":\"merckii\",\"petal_count\":9,\"color\":\"pink\"}]\n",
      "[{\"id\":18,\"genus\":\"Dahlia\",\"species\":\"merckii\",\"petal_count\":5,\"color\":\"pink\"},{\"id\":19,\"genus\":\"Dahlia\",\"species\":\"hortensis\",\"petal_count\":60,\"color\":\"orange\"},{\"id\":20,\"genus\":\"Dahlia\",\"species\":\"merckii\",\"petal_count\":7,\"color\":\"pink\"},{\"id\":21,\"genus\":\"Dahlia\",\"species\":\"hortensis\",\"petal_count\":80,\"color\":\"orange\"},{\"id\":22,\"genus\":\"Dahlia\",\"species\":\"merckii\",\"petal_count\":9,\"color\":\"pink\"}]\n",
      "[{\"id\":19,\"genus\":\"Dahlia\",\"species\":\"hortensis\",\"petal_count\":60,\"color\":\"orange\"},{\"id\":21,\"genus\":\"Dahlia\",\"species\":\"hortensis\",\"petal_count\":80,\"color\":\"orange\"}]\n",
      "[{\"avg\":70.0}]\n",
      "[{\"min\":60}]\n",
      "[{\"max\":80}]\n",
      "[{\"id\":18,\"genus\":\"Dahlia\",\"species\":\"merckii\",\"petal_count\":5,\"color\":\"pink\"},{\"id\":20,\"genus\":\"Dahlia\",\"species\":\"merckii\",\"petal_count\":7,\"color\":\"pink\"},{\"id\":22,\"genus\":\"Dahlia\",\"species\":\"merckii\",\"petal_count\":9,\"color\":\"pink\"}]\n",
      "[{\"avg\":7.0}]\n",
      "[{\"min\":5}]\n",
      "[{\"max\":9}]\n"
     ]
    }
   ],
   "source": [
    "# and check\n",
    "a_genus = 'Dahlia'\n",
    "a_species1 = 'hortensis'\n",
    "a_species2 = 'merckii'\n",
    "r = requests.get(f'{localhost}/flowers')\n",
    "print(r.text)\n",
    "r = requests.get(f'{localhost}/flowers/{a_genus}')\n",
    "print(r.text)\n",
    "r = requests.get(f'{localhost}/flowers/{a_genus}/{a_species1}')\n",
    "print(r.text)\n",
    "r = requests.get(f'{localhost}/flowers/{a_genus}/{a_species1}/petals/avg')\n",
    "print(r.text)\n",
    "r = requests.get(f'{localhost}/flowers/{a_genus}/{a_species1}/petals/min')\n",
    "print(r.text)\n",
    "r = requests.get(f'{localhost}/flowers/{a_genus}/{a_species1}/petals/max')\n",
    "print(r.text)\n",
    "\n",
    "r = requests.get(f'{localhost}/flowers/{a_genus}/{a_species2}')\n",
    "print(r.text)\n",
    "r = requests.get(f'{localhost}/flowers/{a_genus}/{a_species2}/petals/avg')\n",
    "print(r.text)\n",
    "r = requests.get(f'{localhost}/flowers/{a_genus}/{a_species2}/petals/min')\n",
    "print(r.text)\n",
    "r = requests.get(f'{localhost}/flowers/{a_genus}/{a_species2}/petals/max')\n",
    "print(r.text)"
   ]
  }
 ],
 "metadata": {
  "interpreter": {
   "hash": "901189f45565fabe1942a4ca7d9725c2729195cec24af910b4786e87735fe585"
  },
  "kernelspec": {
   "display_name": "Python 3.10.4 ('web-api')",
   "language": "python",
   "name": "python3"
  },
  "language_info": {
   "codemirror_mode": {
    "name": "ipython",
    "version": 3
   },
   "file_extension": ".py",
   "mimetype": "text/x-python",
   "name": "python",
   "nbconvert_exporter": "python",
   "pygments_lexer": "ipython3",
   "version": "3.10.4"
  },
  "orig_nbformat": 4
 },
 "nbformat": 4,
 "nbformat_minor": 2
}
