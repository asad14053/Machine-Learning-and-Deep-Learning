{
  "nbformat": 4,
  "nbformat_minor": 0,
  "metadata": {
    "colab": {
      "name": "p2.ipynb",
      "provenance": [],
      "collapsed_sections": []
    },
    "kernelspec": {
      "name": "python3",
      "display_name": "Python 3"
    },
    "language_info": {
      "name": "python"
    }
  },
  "cells": [
    {
      "cell_type": "code",
      "execution_count": 10,
      "metadata": {
        "id": "71u6zkYnGmqq"
      },
      "outputs": [],
      "source": [
        "#For problem 2, you are going to implement an API that our p2client.ipynb notebook is going to call\n",
        "#You should NOT change p2client.ipynb, and you should give us a fresh database (one that has the necessary table(s) but no data)\n",
        "#if you want to play around and test your API (which you should), feel free to make an additional file\n",
        "\n",
        "# You are tasked with creating a flower data management system (FDMS)\n",
        "# In particular, this FDMS will manage accepting new flower data, querying for flower data, and generating some statistics based on query parameters\n",
        "# You should implement the following operations:\n",
        "#  - GET / that returns some kind of Hello World message: it could be an introduction the dataset, a rough description, etc.\n",
        "#  - PUT /flowers that takes a Flower and stores it in the database (that you need to create as well)\n",
        "#  - GET /flowers that takes no parameters and returns all Flowers currently in the database\n",
        "#  - GET /flowers/{genus} that takes a genus of flower and returns all observations of that genus\n",
        "#  - GET /flowers/{genus}/{species} that takes a species of flower and returns all observations of that species\n",
        "#  - GET /flowers/{genus}/{species}/petals/avg that takes a species of flower and returns the average petal count across observations\n",
        "#  - GET /flowers/{genus}/{species}/petals/min that takes a species of flower and returns the minimum petal count across observations\n",
        "#  - GET /flowers/{genus}/{species}/petals/max that takes a species of flower and returns the maximum petal count across observations\n",
        "\n",
        "# A Flower should only be accepted with\n",
        "# - its binomial nomenclature (Genus species, with Genus being capitalized, a space, and then species) as a string\n",
        "# - a count of how many petals observed (positive integers and 0)\n",
        "# - a color as a string"
      ]
    },
    {
      "cell_type": "code",
      "source": [
        "!pip install pydantic\n",
        "!pip install fastapi\n",
        "!pip install fastapi nest-asyncio pyngrok uvicorn\n",
        "!pip install databases\n",
        "from pydantic import BaseModel\n",
        "from typing import Optional\n",
        "from fastapi import FastAPI\n",
        "import time\n",
        "from databases import Database"
      ],
      "metadata": {
        "colab": {
          "base_uri": "https://localhost:8080/"
        },
        "id": "5RTedzqcIHOH",
        "outputId": "b90388e5-2a5e-42c6-ddb9-b5f1ba08e3e9"
      },
      "execution_count": 17,
      "outputs": [
        {
          "output_type": "stream",
          "name": "stdout",
          "text": [
            "Requirement already satisfied: pydantic in /usr/local/lib/python3.7/dist-packages (1.9.0)\n",
            "Requirement already satisfied: typing-extensions>=3.7.4.3 in /usr/local/lib/python3.7/dist-packages (from pydantic) (4.1.1)\n",
            "Requirement already satisfied: fastapi in /usr/local/lib/python3.7/dist-packages (0.75.2)\n",
            "Requirement already satisfied: starlette==0.17.1 in /usr/local/lib/python3.7/dist-packages (from fastapi) (0.17.1)\n",
            "Requirement already satisfied: pydantic!=1.7,!=1.7.1,!=1.7.2,!=1.7.3,!=1.8,!=1.8.1,<2.0.0,>=1.6.2 in /usr/local/lib/python3.7/dist-packages (from fastapi) (1.9.0)\n",
            "Requirement already satisfied: anyio<4,>=3.0.0 in /usr/local/lib/python3.7/dist-packages (from starlette==0.17.1->fastapi) (3.5.0)\n",
            "Requirement already satisfied: typing-extensions in /usr/local/lib/python3.7/dist-packages (from starlette==0.17.1->fastapi) (4.1.1)\n",
            "Requirement already satisfied: sniffio>=1.1 in /usr/local/lib/python3.7/dist-packages (from anyio<4,>=3.0.0->starlette==0.17.1->fastapi) (1.2.0)\n",
            "Requirement already satisfied: idna>=2.8 in /usr/local/lib/python3.7/dist-packages (from anyio<4,>=3.0.0->starlette==0.17.1->fastapi) (2.10)\n",
            "Requirement already satisfied: fastapi in /usr/local/lib/python3.7/dist-packages (0.75.2)\n",
            "Requirement already satisfied: nest-asyncio in /usr/local/lib/python3.7/dist-packages (1.5.5)\n",
            "Requirement already satisfied: pyngrok in /usr/local/lib/python3.7/dist-packages (5.1.0)\n",
            "Requirement already satisfied: uvicorn in /usr/local/lib/python3.7/dist-packages (0.17.6)\n",
            "Requirement already satisfied: pydantic!=1.7,!=1.7.1,!=1.7.2,!=1.7.3,!=1.8,!=1.8.1,<2.0.0,>=1.6.2 in /usr/local/lib/python3.7/dist-packages (from fastapi) (1.9.0)\n",
            "Requirement already satisfied: starlette==0.17.1 in /usr/local/lib/python3.7/dist-packages (from fastapi) (0.17.1)\n",
            "Requirement already satisfied: typing-extensions in /usr/local/lib/python3.7/dist-packages (from starlette==0.17.1->fastapi) (4.1.1)\n",
            "Requirement already satisfied: anyio<4,>=3.0.0 in /usr/local/lib/python3.7/dist-packages (from starlette==0.17.1->fastapi) (3.5.0)\n",
            "Requirement already satisfied: sniffio>=1.1 in /usr/local/lib/python3.7/dist-packages (from anyio<4,>=3.0.0->starlette==0.17.1->fastapi) (1.2.0)\n",
            "Requirement already satisfied: idna>=2.8 in /usr/local/lib/python3.7/dist-packages (from anyio<4,>=3.0.0->starlette==0.17.1->fastapi) (2.10)\n",
            "Requirement already satisfied: PyYAML in /usr/local/lib/python3.7/dist-packages (from pyngrok) (3.13)\n",
            "Requirement already satisfied: h11>=0.8 in /usr/local/lib/python3.7/dist-packages (from uvicorn) (0.13.0)\n",
            "Requirement already satisfied: click>=7.0 in /usr/local/lib/python3.7/dist-packages (from uvicorn) (7.1.2)\n",
            "Requirement already satisfied: asgiref>=3.4.0 in /usr/local/lib/python3.7/dist-packages (from uvicorn) (3.5.0)\n",
            "Collecting databases\n",
            "  Downloading databases-0.5.5-py3-none-any.whl (21 kB)\n",
            "Requirement already satisfied: sqlalchemy<1.5,>=1.4 in /usr/local/lib/python3.7/dist-packages (from databases) (1.4.35)\n",
            "Requirement already satisfied: importlib-metadata in /usr/local/lib/python3.7/dist-packages (from sqlalchemy<1.5,>=1.4->databases) (4.11.3)\n",
            "Requirement already satisfied: greenlet!=0.4.17 in /usr/local/lib/python3.7/dist-packages (from sqlalchemy<1.5,>=1.4->databases) (1.1.2)\n",
            "Requirement already satisfied: zipp>=0.5 in /usr/local/lib/python3.7/dist-packages (from importlib-metadata->sqlalchemy<1.5,>=1.4->databases) (3.8.0)\n",
            "Requirement already satisfied: typing-extensions>=3.6.4 in /usr/local/lib/python3.7/dist-packages (from importlib-metadata->sqlalchemy<1.5,>=1.4->databases) (4.1.1)\n",
            "Installing collected packages: databases\n",
            "Successfully installed databases-0.5.5\n"
          ]
        }
      ]
    },
    {
      "cell_type": "code",
      "source": [
        "from decimal import Decimal\n",
        "\n",
        "from pydantic import (\n",
        "    BaseModel,\n",
        "    NegativeFloat,\n",
        "    NegativeInt,\n",
        "    PositiveFloat,\n",
        "    PositiveInt,\n",
        "    NonNegativeFloat,\n",
        "    NonNegativeInt,\n",
        "    NonPositiveFloat,\n",
        "    NonPositiveInt,\n",
        "    conbytes,\n",
        "    condecimal,\n",
        "    confloat,\n",
        "    conint,\n",
        "    conlist,\n",
        "    conset,\n",
        "    constr,\n",
        "    Field,\n",
        ")\n",
        "\n",
        "app = FastAPI()\n",
        "\n",
        "database = Database(\"sqlite:///db.db\") # create db using sqlite browser\n",
        "\n",
        "class Data(BaseModel):\n",
        "    genus: str\n",
        "    species: str\n",
        "    count_petal:  PositiveInt\n",
        "    color: str\n",
        "\n",
        "\n",
        "# You should implement the following operations:\n",
        "#  - GET / that returns some kind of Hello World message: it could be an introduction the dataset, a rough description, etc.\n",
        "#  - PUT /flowers that takes a Flower and stores it in the database (that you need to create as well)\n",
        "#  - GET /flowers that takes no parameters and returns all Flowers currently in the database\n",
        "#  - GET /flowers/{genus} that takes a genus of flower and returns all observations of that genus\n",
        "#  - GET /flowers/{genus}/{species} that takes a species of flower and returns all observations of that species\n",
        "#  - GET /flowers/{genus}/{species}/petals/avg that takes a species of flower and returns the average petal count across observations\n",
        "#  - GET /flowers/{genus}/{species}/petals/min that takes a species of flower and returns the minimum petal count across observations\n",
        "#  - GET /flowers/{genus}/{species}/petals/max that takes a species of flower and returns the maximum petal count across observations\n",
        "\n",
        "\n",
        "# to_predict_dict = df41.to_dict()\n",
        "# r = requests.post(url, json=to_predict_dict)\n",
        "\n",
        "@app.get('/')\n",
        "async def home():\n",
        "  return \"Flower Data Management System (FDMS)\"\n",
        "\n",
        "@app.put(\"/flowers\")\n",
        "async def put_readings(reading: Data):\n",
        "  return await database.execute(\"Insert INTO sensor_readings (genus, species, count_petal, color) VALUES (:genus,:species :count_petal,:color)\", (\"genus\": reading.genus, \"species\": reading.species, \"count_petal\": reading.count_petal, \"color\": reading.color)\")\n",
        "\n",
        "@app.get(\"/flowers\")\n",
        "async def read_readings():\n",
        "  #return [{\"name\": \"sensor1\", \"value\": 84768, \"time\":1 },{\"name\": \"sensor2\", \"value\": 84768, \"time\":2 }]\n",
        "  return await database.fetch_all(\"SELECT * from sensor_readings\")\n",
        "\n",
        "@app.get(\"/readings/{genus}\")\n",
        "async def read_reading(genus: str):\n",
        "  return await database.fetch_all(\"SELECT * from sensor_readings WHERE genus = : genus\", (\"genus: genus\"))\n",
        "\n",
        "@app.get(\"/flowers/{genus}/{species}\")\n",
        "async def read_reading(genus: str):\n",
        "  return await database.fetch_all(\"SELECT * from sensor_readings WHERE genus = : genus AND species = : species\", (\"genus: genus\", \"species: species\"))\n",
        "\n",
        "@app.get(\"/flowers/{genus}/{species}/petals/avg\")\n",
        "async def read_reading(genus: str):\n",
        "  return await database.fetch_all(\"SELECT AVG(count) from sensor_readings WHERE genus = : genus AND species = : species\", (\"genus: genus\", \"species: species\"))\n",
        "\n",
        "@app.get(\"/flowers/{genus}/{species}/petals/min\")\n",
        "async def read_reading(genus: str):\n",
        "  return await database.fetch_all(\"SELECT MIN(count) from sensor_readings WHERE genus = : genus AND species = : species\", (\"genus: genus\", \"species: species\"))\n",
        "\n",
        "@app.get(\"/flowers/{genus}/{species}/petals/max\")\n",
        "async def read_reading(genus: str):\n",
        "  return await database.fetch_all(\"SELECT MAX(count) from sensor_readings WHERE genus = : genus AND species = : species\", (\"genus: genus\", \"species: species\"))"
      ],
      "metadata": {
        "colab": {
          "base_uri": "https://localhost:8080/",
          "height": 148
        },
        "id": "ay8ICQQwJSFv",
        "outputId": "01006d9e-40f0-4890-a874-9fad4d8d4bd6"
      },
      "execution_count": 19,
      "outputs": [
        {
          "output_type": "error",
          "ename": "SyntaxError",
          "evalue": "ignored",
          "traceback": [
            "\u001b[0;36m  File \u001b[0;32m\"<ipython-input-19-5a792402bfa1>\"\u001b[0;36m, line \u001b[0;32m52\u001b[0m\n\u001b[0;31m    return await database.execute(\"Insert INTO sensor_readings (genus, species, count_petal, color) VALUES (:genus,:species :count_petal,:color)\", (\"genus\": reading.genus, \"species\": reading.species, \"count_petal\": reading.count_petal, \"color\": reading.color)\")\u001b[0m\n\u001b[0m                                                                                                                                                           ^\u001b[0m\n\u001b[0;31mSyntaxError\u001b[0m\u001b[0;31m:\u001b[0m invalid syntax\n"
          ]
        }
      ]
    },
    {
      "cell_type": "code",
      "source": [
        "ngrok_tunnel = ngrok.connect(8000)\n",
        "print('Public URL:', ngrok_tunnel.public_url+'/home')\n",
        "print('Public URL:', ngrok_tunnel.public_url+'/gainer_coin')\n",
        "print('Public URL:', ngrok_tunnel.public_url+'/each_price_change_catagory')\n",
        "nest_asyncio.apply()\n",
        "uvicorn.run(app, port=8000)"
      ],
      "metadata": {
        "id": "ErIYZmaTcNbW"
      },
      "execution_count": null,
      "outputs": []
    },
    {
      "cell_type": "code",
      "source": [
        ""
      ],
      "metadata": {
        "id": "fUBahGWZcNjd"
      },
      "execution_count": null,
      "outputs": []
    }
  ]
}