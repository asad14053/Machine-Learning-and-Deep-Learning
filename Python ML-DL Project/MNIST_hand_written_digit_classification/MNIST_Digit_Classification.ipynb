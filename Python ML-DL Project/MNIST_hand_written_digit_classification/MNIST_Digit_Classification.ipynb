{
  "nbformat": 4,
  "nbformat_minor": 0,
  "metadata": {
    "colab": {
      "provenance": []
    },
    "kernelspec": {
      "name": "python3",
      "display_name": "Python 3"
    },
    "language_info": {
      "name": "python"
    }
  },
  "cells": [
    {
      "cell_type": "code",
      "execution_count": null,
      "metadata": {
        "id": "geovztC754xy"
      },
      "outputs": [],
      "source": [
        "# Reference: \n",
        "# https://machinelearningmastery.com/how-to-develop-a-convolutional-neural-network-from-scratch-for-mnist-handwritten-digit-classification/\n",
        "# https://towardsdatascience.com/image-classification-in-10-minutes-with-mnist-dataset-54c35b77a38d\n",
        "# https://www.kaggle.com/code/prashant111/mnist-deep-neural-network-with-keras\n",
        "# https://www.kaggle.com/code/heeraldedhia/mnist-classifier-first-deep-learning-project/notebook\n",
        "# https://medium.com/fenwicks/tutorial-1-mnist-the-hello-world-of-deep-learning-abd252c47709\n",
        "# https://medium.com/tebs-lab/how-to-classify-mnist-digits-with-different-neural-network-architectures-39c75a0f03e3\n",
        "\n",
        "# https://www.kaggle.com/code/cdeotte/how-to-choose-cnn-architecture-mnist"
      ]
    },
    {
      "cell_type": "code",
      "source": [
        "# https://www.kaggle.com/code/heeraldedhia/mnist-classifier-first-deep-learning-project/notebook"
      ],
      "metadata": {
        "id": "eOoHCkjjI-d7"
      },
      "execution_count": null,
      "outputs": []
    },
    {
      "cell_type": "markdown",
      "source": [],
      "metadata": {
        "id": "psWfgTYzLP2j"
      }
    },
    {
      "cell_type": "markdown",
      "source": [
        "#Task and Goals:\n",
        "\n",
        "\n",
        "1.   Run the basic train and find most feasible hyper parameters\n",
        "\n",
        "\n",
        "> a) find feasible learning rate, activation and optimizer function, epoch size\n",
        "\n",
        "> b) load the other test dataset excel to check the accuracy and save the predicted results in .csv\n",
        "\n",
        "\n",
        "2.   Change the optimizer and on best model you tested\n",
        "and do all the sub section of 1. (Repeat steps 6-9 again)\n",
        "\n"
      ],
      "metadata": {
        "id": "CWZFKhOfLP5O"
      }
    },
    {
      "cell_type": "markdown",
      "source": [
        "## (1) Import the required libraries"
      ],
      "metadata": {
        "id": "aT-4yUEKhuLE"
      }
    },
    {
      "cell_type": "code",
      "source": [
        "import numpy as np         \n",
        "import pandas as pd\n",
        "import matplotlib.pyplot as plt      \n",
        "import random                        \n",
        "import keras\n",
        "\n",
        "from keras.datasets import mnist     \n",
        "from keras.models import Sequential  \n",
        "\n",
        "from keras.layers.core import Dense, Dropout, Activation \n",
        "from keras.utils import np_utils "
      ],
      "metadata": {
        "id": "mrPADy89hdcV"
      },
      "execution_count": null,
      "outputs": []
    },
    {
      "cell_type": "markdown",
      "source": [
        "## (2) Load the Dataset"
      ],
      "metadata": {
        "id": "hASIpKSclz2O"
      }
    },
    {
      "cell_type": "code",
      "source": [
        "# load dataset\n",
        "(X_train, y_train), (X_test, y_test) = mnist.load_data()\n",
        "\n",
        "# print train and test set\n",
        "print(\"X_train shape\", X_train.shape)\n",
        "print(\"y_train shape\", y_train.shape)\n",
        "print(\"X_test shape\", X_test.shape)\n",
        "print(\"y_test shape\", y_test.shape)\n"
      ],
      "metadata": {
        "colab": {
          "base_uri": "https://localhost:8080/"
        },
        "id": "XzMC6kE-ly1v",
        "outputId": "91bc134e-abdb-4cee-e9eb-caea3bd49789"
      },
      "execution_count": null,
      "outputs": [
        {
          "output_type": "stream",
          "name": "stdout",
          "text": [
            "X_train shape (60000, 28, 28)\n",
            "y_train shape (60000,)\n",
            "X_test shape (10000, 28, 28)\n",
            "y_test shape (10000,)\n"
          ]
        }
      ]
    },
    {
      "cell_type": "code",
      "source": [
        "# Read test image excel file for different testing scheme  \n",
        "test_data = pd.read_csv('test.csv', delimiter = ',', header = 0, usecols = [x for x in range(0, 784)])"
      ],
      "metadata": {
        "id": "I_EbUGh-BeEf"
      },
      "execution_count": null,
      "outputs": []
    },
    {
      "cell_type": "markdown",
      "source": [
        "## (3) Data Preprocessing"
      ],
      "metadata": {
        "id": "hN8mOgvhm2Ev"
      }
    },
    {
      "cell_type": "code",
      "source": [
        "# data sample resize\n",
        "X_train = X_train.reshape(60000, 784) \n",
        "X_test = X_test.reshape(10000, 784)   \n",
        "\n",
        "# typecasting pixel value as float \n",
        "X_train = X_train.astype('float32')   \n",
        "X_test = X_test.astype('float32')\n",
        "\n",
        "# Normalize the sample image\n",
        "X_train /= 255                        \n",
        "X_test /= 255\n",
        "\n",
        "print(\"Training matrix shape\", X_train.shape)\n",
        "print(\"Testing matrix shape\", X_test.shape)"
      ],
      "metadata": {
        "id": "TfgAbqxnm1N_",
        "colab": {
          "base_uri": "https://localhost:8080/"
        },
        "outputId": "3c0981cb-7c46-4254-a821-9d529026800d"
      },
      "execution_count": null,
      "outputs": [
        {
          "output_type": "stream",
          "name": "stdout",
          "text": [
            "Training matrix shape (60000, 784)\n",
            "Testing matrix shape (10000, 784)\n"
          ]
        }
      ]
    },
    {
      "cell_type": "code",
      "source": [
        "# Converting Categorical to Numerical\n",
        "# assign class labling\n",
        "no_classes = 10\n",
        "Y_train = np_utils.to_categorical(y_train, no_classes)\n",
        "Y_test = np_utils.to_categorical(y_test, no_classes)"
      ],
      "metadata": {
        "id": "NFi1wxTB3qev"
      },
      "execution_count": null,
      "outputs": []
    },
    {
      "cell_type": "markdown",
      "source": [
        "## (4) Build Neural Network"
      ],
      "metadata": {
        "id": "JHDi_1YR4Apb"
      }
    },
    {
      "cell_type": "code",
      "source": [
        "# 3 layer Dense FC Archietecture (shallow network)\n",
        "\n",
        "model = Sequential()\n",
        "\n",
        "# layer \n",
        "# 512 nodes with 784 input shapes\n",
        "model.add(Dense(512, input_shape=(784,))) \n",
        "model.add(Activation('relu'))\n",
        "\n",
        "#drop out 20% nodes\n",
        "model.add(Dropout(0.2))\n",
        "\n",
        "# layer 2\n",
        "# 512 nodes with 'relu' activation\n",
        "model.add(Dense(512))\n",
        "model.add(Activation('relu'))\n",
        "\n",
        "#drop out 20% nodes\n",
        "model.add(Dropout(0.2))\n",
        "\n",
        "# layer 3\n",
        "# number of class = number of nodes in last layer \n",
        "model.add(Dense(10))\n",
        "\n",
        "# softmax activation for categorical data\n",
        "model.add(Activation('softmax'))"
      ],
      "metadata": {
        "id": "9VJmnX2Z33le"
      },
      "execution_count": null,
      "outputs": []
    },
    {
      "cell_type": "markdown",
      "source": [
        "## (5) Model Details"
      ],
      "metadata": {
        "id": "u5XL7D8U5hVk"
      }
    },
    {
      "cell_type": "code",
      "source": [
        "model.summary()"
      ],
      "metadata": {
        "colab": {
          "base_uri": "https://localhost:8080/"
        },
        "id": "b10detZU5HC5",
        "outputId": "e9e320e4-d76b-4dea-8350-a0c689def704"
      },
      "execution_count": null,
      "outputs": [
        {
          "output_type": "stream",
          "name": "stdout",
          "text": [
            "Model: \"sequential_2\"\n",
            "_________________________________________________________________\n",
            " Layer (type)                Output Shape              Param #   \n",
            "=================================================================\n",
            " dense_6 (Dense)             (None, 512)               401920    \n",
            "                                                                 \n",
            " activation_6 (Activation)   (None, 512)               0         \n",
            "                                                                 \n",
            " dropout_4 (Dropout)         (None, 512)               0         \n",
            "                                                                 \n",
            " dense_7 (Dense)             (None, 512)               262656    \n",
            "                                                                 \n",
            " activation_7 (Activation)   (None, 512)               0         \n",
            "                                                                 \n",
            " dropout_5 (Dropout)         (None, 512)               0         \n",
            "                                                                 \n",
            " dense_8 (Dense)             (None, 10)                5130      \n",
            "                                                                 \n",
            " activation_8 (Activation)   (None, 10)                0         \n",
            "                                                                 \n",
            "=================================================================\n",
            "Total params: 669,706\n",
            "Trainable params: 669,706\n",
            "Non-trainable params: 0\n",
            "_________________________________________________________________\n"
          ]
        }
      ]
    },
    {
      "cell_type": "code",
      "source": [
        "from keras.utils import plot_model\n",
        "plot_model(model, to_file='model_chart.png', show_shapes=True, show_layer_names=True)\n",
        "from IPython.display import Image\n",
        "Image(\"model_chart.png\")"
      ],
      "metadata": {
        "colab": {
          "base_uri": "https://localhost:8080/",
          "height": 976
        },
        "id": "FLC7LYKB5HEi",
        "outputId": "10914402-7ab9-41f6-db94-f0ea37f2ecfa"
      },
      "execution_count": null,
      "outputs": [
        {
          "output_type": "execute_result",
          "data": {
            "image/png": "[encoded data removed]",
            "text/plain": [
              "<IPython.core.display.Image object>"
            ]
          },
          "metadata": {},
          "execution_count": 124
        }
      ]
    },
    {
      "cell_type": "markdown",
      "source": [
        "# (a) Task 1: Find the hyperparameters for base model "
      ],
      "metadata": {
        "id": "46Rt87GaS0sF"
      }
    },
    {
      "cell_type": "markdown",
      "source": [
        "## (6) Run the model"
      ],
      "metadata": {
        "id": "0SB5sErK5xd4"
      }
    },
    {
      "cell_type": "code",
      "source": [
        "# optimizer adam with lr = 0.00003 and categorical_crossentropy loss function\n",
        "\n",
        "opt = keras.optimizers.Adam(learning_rate=0.00003)\n",
        "model.compile(loss='categorical_crossentropy', optimizer=opt, metrics=['accuracy'])"
      ],
      "metadata": {
        "id": "GDsXin2W53yQ"
      },
      "execution_count": null,
      "outputs": []
    },
    {
      "cell_type": "code",
      "source": [
        "# run the model for mini batch size = 128, epoch 20\n",
        "history = model.fit(X_train, Y_train,\n",
        "          batch_size=128, epochs=20,\n",
        "          verbose=1)"
      ],
      "metadata": {
        "colab": {
          "base_uri": "https://localhost:8080/"
        },
        "id": "ky0nDzPU5_Q4",
        "outputId": "f6f4bb8f-b5df-470d-b51c-8d4c9166917e"
      },
      "execution_count": null,
      "outputs": [
        {
          "output_type": "stream",
          "name": "stdout",
          "text": [
            "Epoch 1/20\n",
            "469/469 [==============================] - 8s 16ms/step - loss: 0.0509 - accuracy: 0.9845\n",
            "Epoch 2/20\n",
            "469/469 [==============================] - 7s 16ms/step - loss: 0.0495 - accuracy: 0.9847\n",
            "Epoch 3/20\n",
            "469/469 [==============================] - 7s 16ms/step - loss: 0.0480 - accuracy: 0.9854\n",
            "Epoch 4/20\n",
            "469/469 [==============================] - 7s 16ms/step - loss: 0.0460 - accuracy: 0.9863\n",
            "Epoch 5/20\n",
            "469/469 [==============================] - 7s 16ms/step - loss: 0.0451 - accuracy: 0.9865\n",
            "Epoch 6/20\n",
            "469/469 [==============================] - 8s 16ms/step - loss: 0.0440 - accuracy: 0.9868\n",
            "Epoch 7/20\n",
            "469/469 [==============================] - 8s 17ms/step - loss: 0.0437 - accuracy: 0.9867\n",
            "Epoch 8/20\n",
            "469/469 [==============================] - 7s 16ms/step - loss: 0.0424 - accuracy: 0.9877\n",
            "Epoch 9/20\n",
            "469/469 [==============================] - 7s 16ms/step - loss: 0.0412 - accuracy: 0.9877\n",
            "Epoch 10/20\n",
            "469/469 [==============================] - 8s 16ms/step - loss: 0.0408 - accuracy: 0.9874\n",
            "Epoch 11/20\n",
            "469/469 [==============================] - 8s 16ms/step - loss: 0.0403 - accuracy: 0.9879\n",
            "Epoch 12/20\n",
            "469/469 [==============================] - 8s 16ms/step - loss: 0.0386 - accuracy: 0.9885\n",
            "Epoch 13/20\n",
            "469/469 [==============================] - 8s 16ms/step - loss: 0.0374 - accuracy: 0.9890\n",
            "Epoch 14/20\n",
            "469/469 [==============================] - 8s 16ms/step - loss: 0.0360 - accuracy: 0.9891\n",
            "Epoch 15/20\n",
            "469/469 [==============================] - 8s 16ms/step - loss: 0.0364 - accuracy: 0.9891\n",
            "Epoch 16/20\n",
            "469/469 [==============================] - 8s 17ms/step - loss: 0.0352 - accuracy: 0.9888\n",
            "Epoch 17/20\n",
            "469/469 [==============================] - 8s 17ms/step - loss: 0.0337 - accuracy: 0.9897\n",
            "Epoch 18/20\n",
            "469/469 [==============================] - 8s 16ms/step - loss: 0.0332 - accuracy: 0.9898\n",
            "Epoch 19/20\n",
            "469/469 [==============================] - 7s 16ms/step - loss: 0.0328 - accuracy: 0.9895\n",
            "Epoch 20/20\n",
            "469/469 [==============================] - 7s 16ms/step - loss: 0.0323 - accuracy: 0.9901\n"
          ]
        }
      ]
    },
    {
      "cell_type": "markdown",
      "source": [
        "## (7) Evaluate the model\n",
        "\n"
      ],
      "metadata": {
        "id": "0103bIES8Po0"
      }
    },
    {
      "cell_type": "code",
      "source": [
        "# check the accuracy\n",
        "score = model.evaluate(X_test, Y_test)\n",
        "print('Test accuracy:', score[1])"
      ],
      "metadata": {
        "colab": {
          "base_uri": "https://localhost:8080/"
        },
        "id": "aK8Vj_i98XtS",
        "outputId": "ee21331f-3aac-440c-fd1d-7a2911ffb310"
      },
      "execution_count": null,
      "outputs": [
        {
          "output_type": "stream",
          "name": "stdout",
          "text": [
            "313/313 [==============================] - 1s 3ms/step - loss: 0.0631 - accuracy: 0.9819\n",
            "Test accuracy: 0.9818999767303467\n"
          ]
        }
      ]
    },
    {
      "cell_type": "code",
      "source": [
        "# plot loss and accuracy trends\n",
        "\n",
        "fig = plt.figure()\n",
        "plt.subplot(2,1,1)\n",
        "plt.plot(history.history['accuracy'])\n",
        "plt.title('model accuracy')\n",
        "plt.ylabel('accuracy')\n",
        "plt.xlabel('epoch')\n",
        "plt.legend(['train', 'test'], loc='lower right')\n",
        "\n",
        "plt.subplot(2,1,2)\n",
        "plt.plot(history.history['loss'])\n",
        "plt.title('model loss')\n",
        "plt.ylabel('loss')\n",
        "plt.xlabel('epoch')\n",
        "plt.legend(['train', 'test'], loc='upper right')\n",
        "\n",
        "plt.tight_layout()\n"
      ],
      "metadata": {
        "id": "05IxONi_CoMp",
        "colab": {
          "base_uri": "https://localhost:8080/",
          "height": 297
        },
        "outputId": "2202ce4e-b5a0-43ee-c4fe-af08039ee715"
      },
      "execution_count": null,
      "outputs": [
        {
          "output_type": "display_data",
          "data": {
            "text/plain": [
              "<Figure size 432x288 with 2 Axes>"
            ],
            "image/png": "[encoded data removed]"
          },
          "metadata": {
            "needs_background": "light"
          }
        }
      ]
    },
    {
      "cell_type": "code",
      "source": [
        "\n",
        "# predict the class image data (unknown) from excel for each Image id\n",
        "\n",
        "results = model.predict(test_data)\n",
        "# preprocess to save the predicted image class in csv according to Image id\n",
        "results = np.argmax(results,axis = 1)\n",
        "results = pd.Series(results,name=\"Predicted\")\n",
        "submission = pd.concat([pd.Series(range(1,28001),name = \"ImageId\"),results],axis = 1)\n"
      ],
      "metadata": {
        "colab": {
          "base_uri": "https://localhost:8080/"
        },
        "id": "XbVVJNDsrTsh",
        "outputId": "b90e9ce4-2051-4307-e196-238f9067e5e4"
      },
      "execution_count": null,
      "outputs": [
        {
          "output_type": "stream",
          "name": "stdout",
          "text": [
            "1499/1499 [==============================] - 4s 3ms/step\n"
          ]
        }
      ]
    },
    {
      "cell_type": "code",
      "source": [
        "# find missing value\n",
        "submission.isna().sum()"
      ],
      "metadata": {
        "colab": {
          "base_uri": "https://localhost:8080/"
        },
        "id": "UayU9pQirfF9",
        "outputId": "659b6bef-38f0-4f8c-a02e-0468b7bd56eb"
      },
      "execution_count": null,
      "outputs": [
        {
          "output_type": "execute_result",
          "data": {
            "text/plain": [
              "ImageId      19961\n",
              "Predicted        0\n",
              "dtype: int64"
            ]
          },
          "metadata": {},
          "execution_count": 130
        }
      ]
    },
    {
      "cell_type": "code",
      "source": [
        "# drop missing data\n",
        "submission.drop(submission[submission['ImageId'].isna()].index, inplace=True)"
      ],
      "metadata": {
        "id": "-TMjxaHYrzBO"
      },
      "execution_count": null,
      "outputs": []
    },
    {
      "cell_type": "code",
      "source": [
        "# save the predicted image class in csv according to Image id\n",
        "submission.to_csv(\"submission.csv\",index=False)"
      ],
      "metadata": {
        "id": "PEa6E3uYrajQ"
      },
      "execution_count": null,
      "outputs": []
    },
    {
      "cell_type": "code",
      "source": [
        "# preview the tested sample with predicted class\n",
        "submission"
      ],
      "metadata": {
        "colab": {
          "base_uri": "https://localhost:8080/",
          "height": 424
        },
        "id": "E41AxjgXCw9g",
        "outputId": "e2e9c284-0cd4-4a11-eb41-950974300eb5"
      },
      "execution_count": null,
      "outputs": [
        {
          "output_type": "execute_result",
          "data": {
            "text/plain": [
              "       ImageId  Predicted\n",
              "0          1.0          2\n",
              "1          2.0          0\n",
              "2          3.0          9\n",
              "3          4.0          9\n",
              "4          5.0          3\n",
              "...        ...        ...\n",
              "27995  27996.0          7\n",
              "27996  27997.0          4\n",
              "27997  27998.0          3\n",
              "27998  27999.0          0\n",
              "27999  28000.0          1\n",
              "\n",
              "[28000 rows x 2 columns]"
            ],
            "text/html": [
              "\n",
              "  <div id=\"df-fb0663cd-4e04-4aa6-9774-b6ec4e21a99e\">\n",
              "    <div class=\"colab-df-container\">\n",
              "      <div>\n",
              "<style scoped>\n",
              "    .dataframe tbody tr th:only-of-type {\n",
              "        vertical-align: middle;\n",
              "    }\n",
              "\n",
              "    .dataframe tbody tr th {\n",
              "        vertical-align: top;\n",
              "    }\n",
              "\n",
              "    .dataframe thead th {\n",
              "        text-align: right;\n",
              "    }\n",
              "</style>\n",
              "<table border=\"1\" class=\"dataframe\">\n",
              "  <thead>\n",
              "    <tr style=\"text-align: right;\">\n",
              "      <th></th>\n",
              "      <th>ImageId</th>\n",
              "      <th>Predicted</th>\n",
              "    </tr>\n",
              "  </thead>\n",
              "  <tbody>\n",
              "    <tr>\n",
              "      <th>0</th>\n",
              "      <td>1.0</td>\n",
              "      <td>2</td>\n",
              "    </tr>\n",
              "    <tr>\n",
              "      <th>1</th>\n",
              "      <td>2.0</td>\n",
              "      <td>0</td>\n",
              "    </tr>\n",
              "    <tr>\n",
              "      <th>2</th>\n",
              "      <td>3.0</td>\n",
              "      <td>9</td>\n",
              "    </tr>\n",
              "    <tr>\n",
              "      <th>3</th>\n",
              "      <td>4.0</td>\n",
              "      <td>9</td>\n",
              "    </tr>\n",
              "    <tr>\n",
              "      <th>4</th>\n",
              "      <td>5.0</td>\n",
              "      <td>3</td>\n",
              "    </tr>\n",
              "    <tr>\n",
              "      <th>...</th>\n",
              "      <td>...</td>\n",
              "      <td>...</td>\n",
              "    </tr>\n",
              "    <tr>\n",
              "      <th>27995</th>\n",
              "      <td>27996.0</td>\n",
              "      <td>7</td>\n",
              "    </tr>\n",
              "    <tr>\n",
              "      <th>27996</th>\n",
              "      <td>27997.0</td>\n",
              "      <td>4</td>\n",
              "    </tr>\n",
              "    <tr>\n",
              "      <th>27997</th>\n",
              "      <td>27998.0</td>\n",
              "      <td>3</td>\n",
              "    </tr>\n",
              "    <tr>\n",
              "      <th>27998</th>\n",
              "      <td>27999.0</td>\n",
              "      <td>0</td>\n",
              "    </tr>\n",
              "    <tr>\n",
              "      <th>27999</th>\n",
              "      <td>28000.0</td>\n",
              "      <td>1</td>\n",
              "    </tr>\n",
              "  </tbody>\n",
              "</table>\n",
              "<p>28000 rows × 2 columns</p>\n",
              "</div>\n",
              "      <button class=\"colab-df-convert\" onclick=\"convertToInteractive('df-fb0663cd-4e04-4aa6-9774-b6ec4e21a99e')\"\n",
              "              title=\"Convert this dataframe to an interactive table.\"\n",
              "              style=\"display:none;\">\n",
              "        \n",
              "  <svg xmlns=\"http://www.w3.org/2000/svg\" height=\"24px\"viewBox=\"0 0 24 24\"\n",
              "       width=\"24px\">\n",
              "    <path d=\"M0 0h24v24H0V0z\" fill=\"none\"/>\n",
              "    <path d=\"M18.56 5.44l.94 2.06.94-2.06 2.06-.94-2.06-.94-.94-2.06-.94 2.06-2.06.94zm-11 1L8.5 8.5l.94-2.06 2.06-.94-2.06-.94L8.5 2.5l-.94 2.06-2.06.94zm10 10l.94 2.06.94-2.06 2.06-.94-2.06-.94-.94-2.06-.94 2.06-2.06.94z\"/><path d=\"M17.41 7.96l-1.37-1.37c-.4-.4-.92-.59-1.43-.59-.52 0-1.04.2-1.43.59L10.3 9.45l-7.72 7.72c-.78.78-.78 2.05 0 2.83L4 21.41c.39.39.9.59 1.41.59.51 0 1.02-.2 1.41-.59l7.78-7.78 2.81-2.81c.8-.78.8-2.07 0-2.86zM5.41 20L4 18.59l7.72-7.72 1.47 1.35L5.41 20z\"/>\n",
              "  </svg>\n",
              "      </button>\n",
              "      \n",
              "  <style>\n",
              "    .colab-df-container {\n",
              "      display:flex;\n",
              "      flex-wrap:wrap;\n",
              "      gap: 12px;\n",
              "    }\n",
              "\n",
              "    .colab-df-convert {\n",
              "      background-color: #E8F0FE;\n",
              "      border: none;\n",
              "      border-radius: 50%;\n",
              "      cursor: pointer;\n",
              "      display: none;\n",
              "      fill: #1967D2;\n",
              "      height: 32px;\n",
              "      padding: 0 0 0 0;\n",
              "      width: 32px;\n",
              "    }\n",
              "\n",
              "    .colab-df-convert:hover {\n",
              "      background-color: #E2EBFA;\n",
              "      box-shadow: 0px 1px 2px rgba(60, 64, 67, 0.3), 0px 1px 3px 1px rgba(60, 64, 67, 0.15);\n",
              "      fill: #174EA6;\n",
              "    }\n",
              "\n",
              "    [theme=dark] .colab-df-convert {\n",
              "      background-color: #3B4455;\n",
              "      fill: #D2E3FC;\n",
              "    }\n",
              "\n",
              "    [theme=dark] .colab-df-convert:hover {\n",
              "      background-color: #434B5C;\n",
              "      box-shadow: 0px 1px 3px 1px rgba(0, 0, 0, 0.15);\n",
              "      filter: drop-shadow(0px 1px 2px rgba(0, 0, 0, 0.3));\n",
              "      fill: #FFFFFF;\n",
              "    }\n",
              "  </style>\n",
              "\n",
              "      <script>\n",
              "        const buttonEl =\n",
              "          document.querySelector('#df-fb0663cd-4e04-4aa6-9774-b6ec4e21a99e button.colab-df-convert');\n",
              "        buttonEl.style.display =\n",
              "          google.colab.kernel.accessAllowed ? 'block' : 'none';\n",
              "\n",
              "        async function convertToInteractive(key) {\n",
              "          const element = document.querySelector('#df-fb0663cd-4e04-4aa6-9774-b6ec4e21a99e');\n",
              "          const dataTable =\n",
              "            await google.colab.kernel.invokeFunction('convertToInteractive',\n",
              "                                                     [key], {});\n",
              "          if (!dataTable) return;\n",
              "\n",
              "          const docLinkHtml = 'Like what you see? Visit the ' +\n",
              "            '<a target=\"_blank\" href=https://colab.research.google.com/notebooks/data_table.ipynb>data table notebook</a>'\n",
              "            + ' to learn more about interactive tables.';\n",
              "          element.innerHTML = '';\n",
              "          dataTable['output_type'] = 'display_data';\n",
              "          await google.colab.output.renderOutput(dataTable, element);\n",
              "          const docLink = document.createElement('div');\n",
              "          docLink.innerHTML = docLinkHtml;\n",
              "          element.appendChild(docLink);\n",
              "        }\n",
              "      </script>\n",
              "    </div>\n",
              "  </div>\n",
              "  "
            ]
          },
          "metadata": {},
          "execution_count": 133
        }
      ]
    },
    {
      "cell_type": "code",
      "source": [
        "# take predicon result to check correct and incorrect classification\n",
        "predicted_classes = model.predict(X_test)\n",
        "predicted_classes = np.argmax(predicted_classes,axis = 1)"
      ],
      "metadata": {
        "colab": {
          "base_uri": "https://localhost:8080/"
        },
        "id": "gHfr2911J7vI",
        "outputId": "ecf9cc12-f852-4579-b531-41ee46d8d7ae"
      },
      "execution_count": null,
      "outputs": [
        {
          "output_type": "stream",
          "name": "stdout",
          "text": [
            "313/313 [==============================] - 1s 3ms/step\n"
          ]
        }
      ]
    },
    {
      "cell_type": "markdown",
      "source": [
        "## (8) Evaluate correctly classified data"
      ],
      "metadata": {
        "id": "lf2IKZI7KenM"
      }
    },
    {
      "cell_type": "code",
      "source": [
        "# Checker conition for correctly classified data\n",
        "correct_indices = np.nonzero(predicted_classes == y_test)[0]"
      ],
      "metadata": {
        "id": "eAoG8pM3KBpE"
      },
      "execution_count": null,
      "outputs": []
    },
    {
      "cell_type": "code",
      "source": [
        "# plot some random images with correctly classified results \n",
        "plt.figure()\n",
        "for i, correct in enumerate(correct_indices[:9]):\n",
        "    plt.subplot(3,3,i+1)\n",
        "    plt.imshow(X_test[correct].reshape(28,28), cmap='gray', interpolation='none')\n",
        "    plt.title(\"Predicted {}, Class {}\".format(predicted_classes[correct], y_test[correct]))\n",
        "    \n",
        "plt.tight_layout()"
      ],
      "metadata": {
        "colab": {
          "base_uri": "https://localhost:8080/",
          "height": 297
        },
        "id": "AdUEFxKhKIOb",
        "outputId": "0401059f-7929-4ec9-8fe9-3ed313b73f51"
      },
      "execution_count": null,
      "outputs": [
        {
          "output_type": "display_data",
          "data": {
            "text/plain": [
              "<Figure size 432x288 with 9 Axes>"
            ],
            "image/png": "[encoded data removed]"
          },
          "metadata": {
            "needs_background": "light"
          }
        }
      ]
    },
    {
      "cell_type": "markdown",
      "source": [
        "# (9) Find incorrectly classified sample"
      ],
      "metadata": {
        "id": "6gqB5nslEXag"
      }
    },
    {
      "cell_type": "code",
      "source": [
        "# checking critera for incorrectly classified data\n",
        "incorrect_indices = np.nonzero(predicted_classes != y_test)[0]"
      ],
      "metadata": {
        "id": "ct6adx4JEiht"
      },
      "execution_count": null,
      "outputs": []
    },
    {
      "cell_type": "code",
      "source": [
        "# plot incorrectly classified data\n",
        "plt.figure()\n",
        "for i, incorrect in enumerate(incorrect_indices[:9]):\n",
        "    plt.subplot(3,3,i+1)\n",
        "    plt.imshow(X_test[incorrect].reshape(28,28), cmap='gray', interpolation='none')\n",
        "    plt.title(\"Predicted {}, Class {}\".format(predicted_classes[incorrect], y_test[incorrect]))\n",
        "    \n",
        "plt.tight_layout()"
      ],
      "metadata": {
        "colab": {
          "base_uri": "https://localhost:8080/",
          "height": 297
        },
        "id": "6qQsDjDyGRmg",
        "outputId": "78ed014f-8fb4-4c9c-b93f-e0fc499e8c1e"
      },
      "execution_count": null,
      "outputs": [
        {
          "output_type": "display_data",
          "data": {
            "text/plain": [
              "<Figure size 432x288 with 9 Axes>"
            ],
            "image/png": "[encoded data removed]"
          },
          "metadata": {
            "needs_background": "light"
          }
        }
      ]
    },
    {
      "cell_type": "markdown",
      "source": [
        "# Task 2: Change the optimizer and evaluate"
      ],
      "metadata": {
        "id": "mu0akmy3TN4R"
      }
    },
    {
      "cell_type": "markdown",
      "source": [
        "## (6.1) Run the model with RMSProp"
      ],
      "metadata": {
        "id": "5uBpM-bhUxF_"
      }
    },
    {
      "cell_type": "code",
      "source": [
        "# optimizer = RMSPop with lr = 0.00003 and categorical_crossentropy loss function\n",
        "\n",
        "opt = keras.optimizers.RMSprop(learning_rate=0.00003)\n",
        "model.compile(loss='categorical_crossentropy', optimizer=opt, metrics=['accuracy'])"
      ],
      "metadata": {
        "id": "5uqs5myfTXaS"
      },
      "execution_count": null,
      "outputs": []
    },
    {
      "cell_type": "code",
      "source": [
        "# run the model for mini batch size = 128, epoch 20\n",
        "\n",
        "history = model.fit(X_train, Y_train, batch_size=128, epochs=20, verbose=1)"
      ],
      "metadata": {
        "colab": {
          "base_uri": "https://localhost:8080/"
        },
        "id": "kEcb0qHLTinq",
        "outputId": "bb2ec3c1-3c74-4c7c-ccff-93c1889b0230"
      },
      "execution_count": null,
      "outputs": [
        {
          "output_type": "stream",
          "name": "stdout",
          "text": [
            "Epoch 1/20\n",
            "469/469 [==============================] - 8s 16ms/step - loss: 0.0139 - accuracy: 0.9959\n",
            "Epoch 2/20\n",
            "469/469 [==============================] - 8s 16ms/step - loss: 0.0138 - accuracy: 0.9960\n",
            "Epoch 3/20\n",
            "469/469 [==============================] - 8s 16ms/step - loss: 0.0140 - accuracy: 0.9960\n",
            "Epoch 4/20\n",
            "469/469 [==============================] - 7s 16ms/step - loss: 0.0127 - accuracy: 0.9964\n",
            "Epoch 5/20\n",
            "469/469 [==============================] - 7s 16ms/step - loss: 0.0136 - accuracy: 0.9960\n",
            "Epoch 6/20\n",
            "469/469 [==============================] - 8s 16ms/step - loss: 0.0119 - accuracy: 0.9964\n",
            "Epoch 7/20\n",
            "469/469 [==============================] - 8s 16ms/step - loss: 0.0125 - accuracy: 0.9961\n",
            "Epoch 8/20\n",
            "469/469 [==============================] - 8s 16ms/step - loss: 0.0123 - accuracy: 0.9964\n",
            "Epoch 9/20\n",
            "469/469 [==============================] - 8s 16ms/step - loss: 0.0121 - accuracy: 0.9964\n",
            "Epoch 10/20\n",
            "469/469 [==============================] - 8s 16ms/step - loss: 0.0119 - accuracy: 0.9966\n",
            "Epoch 11/20\n",
            "469/469 [==============================] - 8s 16ms/step - loss: 0.0117 - accuracy: 0.9964\n",
            "Epoch 12/20\n",
            "469/469 [==============================] - 8s 16ms/step - loss: 0.0108 - accuracy: 0.9967\n",
            "Epoch 13/20\n",
            "469/469 [==============================] - 8s 16ms/step - loss: 0.0106 - accuracy: 0.9967\n",
            "Epoch 14/20\n",
            "469/469 [==============================] - 8s 16ms/step - loss: 0.0105 - accuracy: 0.9969\n",
            "Epoch 15/20\n",
            "469/469 [==============================] - 8s 16ms/step - loss: 0.0105 - accuracy: 0.9969\n",
            "Epoch 16/20\n",
            "469/469 [==============================] - 8s 16ms/step - loss: 0.0111 - accuracy: 0.9967\n",
            "Epoch 17/20\n",
            "469/469 [==============================] - 8s 16ms/step - loss: 0.0103 - accuracy: 0.9970\n",
            "Epoch 18/20\n",
            "469/469 [==============================] - 8s 16ms/step - loss: 0.0105 - accuracy: 0.9969\n",
            "Epoch 19/20\n",
            "469/469 [==============================] - 7s 16ms/step - loss: 0.0097 - accuracy: 0.9973\n",
            "Epoch 20/20\n",
            "469/469 [==============================] - 8s 16ms/step - loss: 0.0098 - accuracy: 0.9971\n"
          ]
        }
      ]
    },
    {
      "cell_type": "markdown",
      "source": [
        "## (7.1) Evaluate the model"
      ],
      "metadata": {
        "id": "Vm23lOnXU_S_"
      }
    },
    {
      "cell_type": "code",
      "source": [
        "# check the accuracy\n",
        "\n",
        "score = model.evaluate(X_test, Y_test)\n",
        "print('Test accuracy:', score[1])"
      ],
      "metadata": {
        "colab": {
          "base_uri": "https://localhost:8080/"
        },
        "id": "BR8Ew73ET6BE",
        "outputId": "5002950a-092f-41b6-e240-2ecfc37633e5"
      },
      "execution_count": null,
      "outputs": [
        {
          "output_type": "stream",
          "name": "stdout",
          "text": [
            "313/313 [==============================] - 1s 3ms/step - loss: 0.0669 - accuracy: 0.9834\n",
            "Test accuracy: 0.9833999872207642\n"
          ]
        }
      ]
    },
    {
      "cell_type": "code",
      "source": [
        "# plot loss and accuracy trends\n",
        "\n",
        "fig = plt.figure()\n",
        "plt.subplot(2,1,1)\n",
        "plt.plot(history.history['accuracy'])\n",
        "plt.title('model accuracy')\n",
        "plt.ylabel('accuracy')\n",
        "plt.xlabel('epoch')\n",
        "plt.legend(['train', 'test'], loc='lower right')\n",
        "\n",
        "plt.subplot(2,1,2)\n",
        "plt.plot(history.history['loss'])\n",
        "plt.title('model loss')\n",
        "plt.ylabel('loss')\n",
        "plt.xlabel('epoch')\n",
        "plt.legend(['train', 'test'], loc='upper right')\n",
        "\n",
        "plt.tight_layout()"
      ],
      "metadata": {
        "colab": {
          "base_uri": "https://localhost:8080/",
          "height": 297
        },
        "id": "vtZgnmT5UBj9",
        "outputId": "76ca2f0e-e1ec-4ca5-c4e1-ba48ab75aa92"
      },
      "execution_count": null,
      "outputs": [
        {
          "output_type": "display_data",
          "data": {
            "text/plain": [
              "<Figure size 432x288 with 2 Axes>"
            ],
            "image/png": "[encoded data removed]"
          },
          "metadata": {
            "needs_background": "light"
          }
        }
      ]
    },
    {
      "cell_type": "code",
      "source": [
        "\n",
        "# predict the class image data (unknown) from excel for each Image id\n",
        "\n",
        "results = model.predict(test_data)\n",
        "# preprocess to save the predicted image class in csv according to Image id\n",
        "results = np.argmax(results,axis = 1)\n",
        "results = pd.Series(results,name=\"Predicted\")\n",
        "submission = pd.concat([pd.Series(range(1,28001),name = \"ImageId\"),results],axis = 1)\n"
      ],
      "metadata": {
        "colab": {
          "base_uri": "https://localhost:8080/"
        },
        "id": "H7MIRAuJVMnx",
        "outputId": "4da5cc8b-983b-45b4-f7ec-a0f515204fc5"
      },
      "execution_count": null,
      "outputs": [
        {
          "output_type": "stream",
          "name": "stdout",
          "text": [
            "1499/1499 [==============================] - 4s 3ms/step\n"
          ]
        }
      ]
    },
    {
      "cell_type": "code",
      "source": [
        "# find missing value\n",
        "submission.isna().sum()"
      ],
      "metadata": {
        "id": "coJLB0FfVT7Q",
        "colab": {
          "base_uri": "https://localhost:8080/"
        },
        "outputId": "144422d3-bd8c-4ee6-bf31-6ab12ccb454f"
      },
      "execution_count": null,
      "outputs": [
        {
          "output_type": "execute_result",
          "data": {
            "text/plain": [
              "ImageId      19961\n",
              "Predicted        0\n",
              "dtype: int64"
            ]
          },
          "metadata": {},
          "execution_count": 164
        }
      ]
    },
    {
      "cell_type": "code",
      "source": [
        "# drop missing data\n",
        "submission.drop(submission[submission['ImageId'].isna()].index, inplace=True)"
      ],
      "metadata": {
        "id": "MkNKTTqFIhw6"
      },
      "execution_count": null,
      "outputs": []
    },
    {
      "cell_type": "code",
      "source": [
        "# save the predicted image class in csv according to Image id\n",
        "submission.to_csv(\"submission.csv\",index=False)"
      ],
      "metadata": {
        "id": "uNMoyM4cIt56"
      },
      "execution_count": null,
      "outputs": []
    },
    {
      "cell_type": "code",
      "source": [
        "# preview the tested sample with predicted class\n",
        "submission"
      ],
      "metadata": {
        "colab": {
          "base_uri": "https://localhost:8080/",
          "height": 424
        },
        "id": "KwWvTIOXVeZe",
        "outputId": "a215799f-fcf8-458e-f645-12f422ee2859"
      },
      "execution_count": null,
      "outputs": [
        {
          "output_type": "execute_result",
          "data": {
            "text/plain": [
              "       ImageId  Predicted\n",
              "0          1.0          2\n",
              "1          2.0          0\n",
              "2          3.0          9\n",
              "3          4.0          0\n",
              "4          5.0          3\n",
              "...        ...        ...\n",
              "27995  27996.0          7\n",
              "27996  27997.0          4\n",
              "27997  27998.0          5\n",
              "27998  27999.0          0\n",
              "27999  28000.0          1\n",
              "\n",
              "[28000 rows x 2 columns]"
            ],
            "text/html": [
              "\n",
              "  <div id=\"df-09fbb3e4-f2b8-4179-b659-6610298fd0b4\">\n",
              "    <div class=\"colab-df-container\">\n",
              "      <div>\n",
              "<style scoped>\n",
              "    .dataframe tbody tr th:only-of-type {\n",
              "        vertical-align: middle;\n",
              "    }\n",
              "\n",
              "    .dataframe tbody tr th {\n",
              "        vertical-align: top;\n",
              "    }\n",
              "\n",
              "    .dataframe thead th {\n",
              "        text-align: right;\n",
              "    }\n",
              "</style>\n",
              "<table border=\"1\" class=\"dataframe\">\n",
              "  <thead>\n",
              "    <tr style=\"text-align: right;\">\n",
              "      <th></th>\n",
              "      <th>ImageId</th>\n",
              "      <th>Predicted</th>\n",
              "    </tr>\n",
              "  </thead>\n",
              "  <tbody>\n",
              "    <tr>\n",
              "      <th>0</th>\n",
              "      <td>1.0</td>\n",
              "      <td>2</td>\n",
              "    </tr>\n",
              "    <tr>\n",
              "      <th>1</th>\n",
              "      <td>2.0</td>\n",
              "      <td>0</td>\n",
              "    </tr>\n",
              "    <tr>\n",
              "      <th>2</th>\n",
              "      <td>3.0</td>\n",
              "      <td>9</td>\n",
              "    </tr>\n",
              "    <tr>\n",
              "      <th>3</th>\n",
              "      <td>4.0</td>\n",
              "      <td>0</td>\n",
              "    </tr>\n",
              "    <tr>\n",
              "      <th>4</th>\n",
              "      <td>5.0</td>\n",
              "      <td>3</td>\n",
              "    </tr>\n",
              "    <tr>\n",
              "      <th>...</th>\n",
              "      <td>...</td>\n",
              "      <td>...</td>\n",
              "    </tr>\n",
              "    <tr>\n",
              "      <th>27995</th>\n",
              "      <td>27996.0</td>\n",
              "      <td>7</td>\n",
              "    </tr>\n",
              "    <tr>\n",
              "      <th>27996</th>\n",
              "      <td>27997.0</td>\n",
              "      <td>4</td>\n",
              "    </tr>\n",
              "    <tr>\n",
              "      <th>27997</th>\n",
              "      <td>27998.0</td>\n",
              "      <td>5</td>\n",
              "    </tr>\n",
              "    <tr>\n",
              "      <th>27998</th>\n",
              "      <td>27999.0</td>\n",
              "      <td>0</td>\n",
              "    </tr>\n",
              "    <tr>\n",
              "      <th>27999</th>\n",
              "      <td>28000.0</td>\n",
              "      <td>1</td>\n",
              "    </tr>\n",
              "  </tbody>\n",
              "</table>\n",
              "<p>28000 rows × 2 columns</p>\n",
              "</div>\n",
              "      <button class=\"colab-df-convert\" onclick=\"convertToInteractive('df-09fbb3e4-f2b8-4179-b659-6610298fd0b4')\"\n",
              "              title=\"Convert this dataframe to an interactive table.\"\n",
              "              style=\"display:none;\">\n",
              "        \n",
              "  <svg xmlns=\"http://www.w3.org/2000/svg\" height=\"24px\"viewBox=\"0 0 24 24\"\n",
              "       width=\"24px\">\n",
              "    <path d=\"M0 0h24v24H0V0z\" fill=\"none\"/>\n",
              "    <path d=\"M18.56 5.44l.94 2.06.94-2.06 2.06-.94-2.06-.94-.94-2.06-.94 2.06-2.06.94zm-11 1L8.5 8.5l.94-2.06 2.06-.94-2.06-.94L8.5 2.5l-.94 2.06-2.06.94zm10 10l.94 2.06.94-2.06 2.06-.94-2.06-.94-.94-2.06-.94 2.06-2.06.94z\"/><path d=\"M17.41 7.96l-1.37-1.37c-.4-.4-.92-.59-1.43-.59-.52 0-1.04.2-1.43.59L10.3 9.45l-7.72 7.72c-.78.78-.78 2.05 0 2.83L4 21.41c.39.39.9.59 1.41.59.51 0 1.02-.2 1.41-.59l7.78-7.78 2.81-2.81c.8-.78.8-2.07 0-2.86zM5.41 20L4 18.59l7.72-7.72 1.47 1.35L5.41 20z\"/>\n",
              "  </svg>\n",
              "      </button>\n",
              "      \n",
              "  <style>\n",
              "    .colab-df-container {\n",
              "      display:flex;\n",
              "      flex-wrap:wrap;\n",
              "      gap: 12px;\n",
              "    }\n",
              "\n",
              "    .colab-df-convert {\n",
              "      background-color: #E8F0FE;\n",
              "      border: none;\n",
              "      border-radius: 50%;\n",
              "      cursor: pointer;\n",
              "      display: none;\n",
              "      fill: #1967D2;\n",
              "      height: 32px;\n",
              "      padding: 0 0 0 0;\n",
              "      width: 32px;\n",
              "    }\n",
              "\n",
              "    .colab-df-convert:hover {\n",
              "      background-color: #E2EBFA;\n",
              "      box-shadow: 0px 1px 2px rgba(60, 64, 67, 0.3), 0px 1px 3px 1px rgba(60, 64, 67, 0.15);\n",
              "      fill: #174EA6;\n",
              "    }\n",
              "\n",
              "    [theme=dark] .colab-df-convert {\n",
              "      background-color: #3B4455;\n",
              "      fill: #D2E3FC;\n",
              "    }\n",
              "\n",
              "    [theme=dark] .colab-df-convert:hover {\n",
              "      background-color: #434B5C;\n",
              "      box-shadow: 0px 1px 3px 1px rgba(0, 0, 0, 0.15);\n",
              "      filter: drop-shadow(0px 1px 2px rgba(0, 0, 0, 0.3));\n",
              "      fill: #FFFFFF;\n",
              "    }\n",
              "  </style>\n",
              "\n",
              "      <script>\n",
              "        const buttonEl =\n",
              "          document.querySelector('#df-09fbb3e4-f2b8-4179-b659-6610298fd0b4 button.colab-df-convert');\n",
              "        buttonEl.style.display =\n",
              "          google.colab.kernel.accessAllowed ? 'block' : 'none';\n",
              "\n",
              "        async function convertToInteractive(key) {\n",
              "          const element = document.querySelector('#df-09fbb3e4-f2b8-4179-b659-6610298fd0b4');\n",
              "          const dataTable =\n",
              "            await google.colab.kernel.invokeFunction('convertToInteractive',\n",
              "                                                     [key], {});\n",
              "          if (!dataTable) return;\n",
              "\n",
              "          const docLinkHtml = 'Like what you see? Visit the ' +\n",
              "            '<a target=\"_blank\" href=https://colab.research.google.com/notebooks/data_table.ipynb>data table notebook</a>'\n",
              "            + ' to learn more about interactive tables.';\n",
              "          element.innerHTML = '';\n",
              "          dataTable['output_type'] = 'display_data';\n",
              "          await google.colab.output.renderOutput(dataTable, element);\n",
              "          const docLink = document.createElement('div');\n",
              "          docLink.innerHTML = docLinkHtml;\n",
              "          element.appendChild(docLink);\n",
              "        }\n",
              "      </script>\n",
              "    </div>\n",
              "  </div>\n",
              "  "
            ]
          },
          "metadata": {},
          "execution_count": 167
        }
      ]
    },
    {
      "cell_type": "code",
      "source": [
        "# take predicon result to check correct and incorrect classification\n",
        "predicted_classes = model.predict(X_test)\n",
        "predicted_classes = np.argmax(predicted_classes,axis = 1)"
      ],
      "metadata": {
        "colab": {
          "base_uri": "https://localhost:8080/"
        },
        "id": "jwhHLfO1VkK7",
        "outputId": "c1d5805c-7014-4beb-8000-5e8996dec5de"
      },
      "execution_count": null,
      "outputs": [
        {
          "output_type": "stream",
          "name": "stdout",
          "text": [
            "313/313 [==============================] - 1s 3ms/step\n"
          ]
        }
      ]
    },
    {
      "cell_type": "markdown",
      "source": [
        "## (8.1) Evaluate correctly classified data"
      ],
      "metadata": {
        "id": "cz6wpB57V018"
      }
    },
    {
      "cell_type": "code",
      "source": [
        "# Checker conition for correctly classified data\n",
        "correct_indices = np.nonzero(predicted_classes == y_test)[0]"
      ],
      "metadata": {
        "id": "MAVCG_R5KRCK"
      },
      "execution_count": null,
      "outputs": []
    },
    {
      "cell_type": "code",
      "source": [
        "# plot some random images with correctly classified results \n",
        "plt.figure()\n",
        "for i, correct in enumerate(correct_indices[:9]):\n",
        "    plt.subplot(3,3,i+1)\n",
        "    plt.imshow(X_test[correct].reshape(28,28), cmap='gray', interpolation='none')\n",
        "    plt.title(\"Predicted {}, Class {}\".format(predicted_classes[correct], y_test[correct]))\n",
        "    \n",
        "plt.tight_layout()"
      ],
      "metadata": {
        "colab": {
          "base_uri": "https://localhost:8080/",
          "height": 297
        },
        "id": "LSeP2xN1KVKX",
        "outputId": "2afd67e1-27f6-4b78-e20f-ae882526d58a"
      },
      "execution_count": null,
      "outputs": [
        {
          "output_type": "display_data",
          "data": {
            "text/plain": [
              "<Figure size 432x288 with 9 Axes>"
            ],
            "image/png": "[encoded data removed]"
          },
          "metadata": {
            "needs_background": "light"
          }
        }
      ]
    },
    {
      "cell_type": "code",
      "source": [
        "# Checker conition for incorrely classified data\n",
        "incorrect_indices = np.nonzero(predicted_classes != y_test)[0]"
      ],
      "metadata": {
        "id": "-Nqs5pd8VkNg"
      },
      "execution_count": null,
      "outputs": []
    },
    {
      "cell_type": "code",
      "source": [
        "# plot incorrectly classified data\n",
        "plt.figure()\n",
        "for i, incorrect in enumerate(incorrect_indices[:9]):\n",
        "    plt.subplot(3,3,i+1)\n",
        "    plt.imshow(X_test[incorrect].reshape(28,28), cmap='gray', interpolation='none')\n",
        "    plt.title(\"Predicted {}, Class {}\".format(predicted_classes[incorrect], y_test[incorrect]))\n",
        "    \n",
        "plt.tight_layout()"
      ],
      "metadata": {
        "colab": {
          "base_uri": "https://localhost:8080/",
          "height": 297
        },
        "id": "mUbuG_qyWH6V",
        "outputId": "9cb6832d-2183-4c00-880e-6082b1fa1931"
      },
      "execution_count": null,
      "outputs": [
        {
          "output_type": "display_data",
          "data": {
            "text/plain": [
              "<Figure size 432x288 with 9 Axes>"
            ],
            "image/png": "[encoded data removed]"
          },
          "metadata": {
            "needs_background": "light"
          }
        }
      ]
    },
    {
      "cell_type": "markdown",
      "source": [],
      "metadata": {
        "id": "p26uE8WCVc1w"
      }
    }
  ]
}